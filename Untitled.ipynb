{
 "cells": [
  {
   "cell_type": "code",
   "execution_count": 1,
   "id": "130b242f-f38e-4978-9b2e-7c6299dd62e9",
   "metadata": {},
   "outputs": [],
   "source": [
    "# import dependencies\n",
    "import requests\n",
    "import pandas as pd"
   ]
  },
  {
   "cell_type": "code",
   "execution_count": 2,
   "id": "a4054466-d72b-4dba-b95d-6aa35f38f3a6",
   "metadata": {},
   "outputs": [],
   "source": [
    "key = '6924a24c5e8fd68ab4c75b8911dde245'\n",
    "state_ids = ['AL', 'AK', 'AZ', 'AR', 'CA', 'CO', 'CT', 'DE', 'FL',\n",
    "             'GA', 'HI', 'ID', 'IL', 'IN', 'IA', 'KS', 'KY', 'LA',\n",
    "             'ME', 'MD', 'MA', 'MI', 'MN', 'MS', 'MO', 'MT', 'NE',\n",
    "             'NV', 'NH', 'NJ', 'NM', 'NY', 'NC', 'ND', 'OH', 'OK',\n",
    "             'OR', 'PA', 'RI', 'SC', 'SD', 'TN', 'TX', 'UT', 'VT',\n",
    "             'VA', 'WA', 'WI', 'WV', 'WY']"
   ]
  },
  {
   "cell_type": "code",
   "execution_count": 3,
   "id": "47231146-d439-4400-9700-b5554bd6a012",
   "metadata": {},
   "outputs": [],
   "source": [
    "for x in state_ids:\n",
    "  HCPC = f\"https://api.stlouisfed.org/fred/series/observations?series_id={x}PCEPCHLTHCARE&api_key={key}&file_type=json\"\n",
    "  RINCPC = f\"https://api.stlouisfed.org/fred/series/observations?series_id={x}RPIPC&api_key={key}&file_type=json\"\n",
    "  response = requests.get(RINCPC)\n",
    "  series = pd.DataFrame(response.json()[\"observations\"])\n",
    "  series[\"value\"] = series.rename(columns={'value': x}, inplace=True)\n",
    "  series = series[['date', x]]\n",
    "  if x == state_ids[0]:\n",
    "    df = series\n",
    "  else:\n",
    "    df = pd.merge(df, series, on='date', how='inner')"
   ]
  },
  {
   "cell_type": "code",
   "execution_count": 4,
   "id": "c6a44b96-7530-49f6-809d-54676c619c0b",
   "metadata": {},
   "outputs": [
    {
     "data": {
      "text/plain": [
       "<Response [200]>"
      ]
     },
     "execution_count": 4,
     "metadata": {},
     "output_type": "execute_result"
    }
   ],
   "source": [
    "response = requests.get(RINCPC)\n",
    "response"
   ]
  },
  {
   "cell_type": "code",
   "execution_count": 5,
   "id": "e8ee5af2-5e8e-4754-8521-fc72df7f6f1a",
   "metadata": {},
   "outputs": [],
   "source": [
    "df.to_csv('realincome.csv', encoding='utf-8', index=False)"
   ]
  },
  {
   "cell_type": "code",
   "execution_count": null,
   "id": "28d59c22-e8a8-499a-90f0-c4aebebfbfb5",
   "metadata": {},
   "outputs": [],
   "source": []
  }
 ],
 "metadata": {
  "kernelspec": {
   "display_name": "Python 3 (ipykernel)",
   "language": "python",
   "name": "python3"
  },
  "language_info": {
   "codemirror_mode": {
    "name": "ipython",
    "version": 3
   },
   "file_extension": ".py",
   "mimetype": "text/x-python",
   "name": "python",
   "nbconvert_exporter": "python",
   "pygments_lexer": "ipython3",
   "version": "3.10.13"
  }
 },
 "nbformat": 4,
 "nbformat_minor": 5
}
