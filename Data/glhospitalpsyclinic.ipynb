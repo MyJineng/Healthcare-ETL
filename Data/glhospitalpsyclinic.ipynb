{
 "cells": [
  {
   "cell_type": "code",
   "execution_count": null,
   "id": "5b63896f",
   "metadata": {},
   "outputs": [],
   "source": [
    "# Import dependencies\n",
    "import pandas as pd\n",
    "from sqlalchemy import create_engine\n",
    "import numpy as np\n",
    "import matplotlib.pyplot as plt\n",
    "import requests"
   ]
  },
  {
   "cell_type": "code",
   "execution_count": null,
   "id": "4ef08e4b",
   "metadata": {},
   "outputs": [],
   "source": [
    "#format list for the dataframe\n",
    "key = '6924a24c5e8fd68ab4c75b8911dde245'\n",
    "state_ids = ['AL', 'AK', 'AZ', 'AR', 'CA', 'CO', 'CT', 'DE', 'FL',\n",
    "             'GA', 'HI', 'ID', 'IL', 'IN', 'IA', 'KS', 'KY', 'LA',\n",
    "             'ME', 'MD', 'MA', 'MI', 'MN', 'MS', 'MO', 'MT', 'NE',\n",
    "             'NV', 'NH', 'NJ', 'NM', 'NY', 'NC', 'ND', 'OH', 'OK',\n",
    "             'OR', 'PA', 'RI', 'SC', 'SD', 'TN', 'TX', 'UT', 'VT',\n",
    "             'VA', 'WA', 'WI', 'WV', 'WY']"
   ]
  },
  {
   "cell_type": "code",
   "execution_count": null,
   "id": "d17aaebf",
   "metadata": {},
   "outputs": [],
   "source": [
    "#create dataframe and read in the two json files holding personal expenditures and personal income per capita\n",
    "for x in state_ids:\n",
    "  RINCPC = f\"https://api.stlouisfed.org/fred/series/observations?series_id={x}RPIPC&api_key={key}&file_type=json\"\n",
    "  response = requests.get(RINCPC)\n",
    "  series = pd.DataFrame(response.json()[\"observations\"])\n",
    "  series[\"value\"] = series.rename(columns={'value': x}, inplace=True)\n",
    "  series = series[['date', x]]\n",
    "  if x == state_ids[0]:\n",
    "    df = series\n",
    "  else:\n",
    "    df = pd.merge(df, series, on='date', how='inner')"
   ]
  },
  {
   "cell_type": "code",
   "execution_count": null,
   "id": "1564d2b2",
   "metadata": {},
   "outputs": [],
   "source": [
    "# Database connection configuration\n",
    "DATABASE_TYPE = 'postgresql'\n",
    "DBAPI = 'psycopg2'\n",
    "ENDPOINT = 'localhost'\n",
    "USER = 'glrod'\n",
    "PASSWORD = 'team3'\n",
    "PORT = 5432\n",
    "DATABASE = 'healthcare_db'  "
   ]
  },
  {
   "cell_type": "code",
   "execution_count": null,
   "id": "337ba3b8",
   "metadata": {},
   "outputs": [],
   "source": [
    "# Create the connection string\n",
    "connection_string = f\"{DATABASE_TYPE}+{DBAPI}://{USER}:{PASSWORD}@{ENDPOINT}:{PORT}/{DATABASE}\""
   ]
  },
  {
   "cell_type": "code",
   "execution_count": null,
   "id": "95aa9d0b",
   "metadata": {},
   "outputs": [],
   "source": [
    "# Create the database engine\n",
    "engine = create_engine(connection_string)\n"
   ]
  },
  {
   "cell_type": "code",
   "execution_count": null,
   "id": "84ca6c62",
   "metadata": {},
   "outputs": [],
   "source": [
    "# Load CSV files into dataframes\n",
    "hospitals_df = pd.read_csv(\"C:\\\\Users\\\\gezeu\\\\Project_3\\\\Hospital.csv\")\n",
    "physicians_df = pd.read_csv(\"C:\\\\Users\\\\gezeu\\\\Project_3\\\\Physician and Clinics.csv\")\n",
    "realincome_df = pd.read_csv(\"C:\\\\Users\\\\gezeu\\\\Project_3\\\\realincome.csv\")"
   ]
  },
  {
   "cell_type": "code",
   "execution_count": null,
   "id": "0e50cf3a",
   "metadata": {},
   "outputs": [],
   "source": [
    "# Load data into PostgreSQL database\n",
    "hospitals_df.to_sql('Hospitals', con=engine, if_exists='replace', index=False)\n",
    "physicians_df.to_sql('Physicians_and_Clinics', con=engine, if_exists='replace', index=False)\n",
    "realincome_df.to_sql('RealIncome', con=engine, if_exists='replace', index=False)"
   ]
  },
  {
   "cell_type": "code",
   "execution_count": null,
   "id": "2f2ec5f3",
   "metadata": {},
   "outputs": [],
   "source": [
    "# Query data from PostgreSQL\n",
    "hospitals_query = \"SELECT * FROM \\\"Hospitals\\\"\"\n",
    "physicians_query = \"SELECT * FROM \\\"Physicians_and_Clinics\\\"\"\n",
    "realincome_query = \"SELECT * FROM \\\"RealIncome\\\"\"\n",
    "\n",
    "\n",
    "hospitals_df = pd.read_sql(hospitals_query, con=engine)\n",
    "physicians_df = pd.read_sql(physicians_query, con=engine)\n",
    "realincome_df = pd.read_sql(realincome_query, con=engine)\n"
   ]
  },
  {
   "cell_type": "code",
   "execution_count": null,
   "id": "3fc929bf",
   "metadata": {},
   "outputs": [],
   "source": [
    "# Pivot the real income data to match the format of other tables (pivoting)\n",
    "# Adjust melt operation based on available columns\n",
    "realincome_df = realincome_df.melt(id_vars=['Year'], var_name='state', value_name='income')\n",
    "realincome_df = realincome_df.pivot(index='Year', columns='state', values='income').reset_index()\n"
   ]
  },
  {
   "cell_type": "code",
   "execution_count": null,
   "id": "9d54632a",
   "metadata": {},
   "outputs": [],
   "source": [
    "# Merge dataframes\n",
    "final_df = pd.merge(hospitals_df, physicians_df, on='Region/state of residence', suffixes=('_hospital', '_physician'))\n",
    "final_df = pd.merge(final_df, realincome_df, left_on='Region/state of residence', right_on='Year')"
   ]
  },
  {
   "cell_type": "code",
   "execution_count": null,
   "id": "f227f82d",
   "metadata": {},
   "outputs": [],
   "source": [
    "# Filter only states (assuming 'Region/state of residence' column contains state names)\n",
    "states = set(['AL', 'AK', 'AZ', 'AR', 'CA', 'CO', 'CT', 'DE', 'FL', 'GA', 'HI', 'ID', 'IL', 'IN', 'IA', 'KS', 'KY', 'LA', 'ME', 'MD', 'MA', 'MI', 'MN', 'MS', 'MO', 'MT', 'NE', 'NV', 'NH', 'NJ', 'NM', 'NY', 'NC', 'ND', 'OH', 'OK', 'OR', 'PA', 'RI', 'SC', 'SD', 'TN', 'TX', 'UT', 'VT', 'VA', 'WA', 'WI', 'WV', 'WY'])\n",
    "final_df = final_df[final_df['Region/state of residence'].isin(states)]\n"
   ]
  },
  {
   "cell_type": "code",
   "execution_count": null,
   "id": "bc29255b",
   "metadata": {},
   "outputs": [],
   "source": [
    "# Melt the dataframe for easier plotting\n",
    "melted_df = final_df.melt(id_vars=['Region/state of residence'],\n",
    "                          value_vars=['2008_hospital', '2008_physician', '2008_income',\n",
    "                                      '2009_hospital', '2009_physician', '2009_income',\n",
    "                                      '2010_hospital', '2010_physician', '2010_income',\n",
    "                                      '2011_hospital', '2011_physician', '2011_income',\n",
    "                                      '2012_hospital', '2012_physician', '2012_income',\n",
    "                                      '2013_hospital', '2013_physician', '2013_income',\n",
    "                                      '2014_hospital', '2014_physician', '2014_income',\n",
    "                                      '2015_hospital', '2015_physician', '2015_income',\n",
    "                                      '2016_hospital', '2016_physician', '2016_income',\n",
    "                                      '2017_hospital', '2017_physician', '2017_income',\n",
    "                                      '2018_hospital', '2018_physician', '2018_income',\n",
    "                                      '2019_hospital', '2019_physician', '2019_income',\n",
    "                                      '2020_hospital', '2020_physician', '2020_income'],\n",
    "                          var_name='category_year', value_name='value')\n",
    "\n",
    "melted_df = final_df.melt(id_vars=['Region/state of residence'],\n",
    "                          value_vars=['2008_hospital', '2008_physician', '2008_income',\n",
    "                                      '2009_hospital', '2009_physician', '2009_income',\n",
    "                                      # Adjust the list based on the actual column names\n",
    "                                      '2010_hospital', '2010_physician', '2010_income'],\n",
    "                          var_name='category_year', value_name='value')\n",
    "\n",
    "\n"
   ]
  },
  {
   "cell_type": "code",
   "execution_count": null,
   "id": "1f7024c8",
   "metadata": {},
   "outputs": [],
   "source": [
    "# Split 'category_year' into 'Category' and 'Year'\n",
    "melted_df[['Year', 'Category']] = melted_df['category_year'].str.extract(r'(\\d{4})_(hospital|physician|income)')\n",
    "melted_df.drop(columns=['category_year'], inplace=True)\n"
   ]
  },
  {
   "cell_type": "code",
   "execution_count": null,
   "id": "efac4029",
   "metadata": {},
   "outputs": [],
   "source": [
    "# Plotting grouped bar chart\n",
    "def plot_grouped_bar_chart(state):\n",
    "    state_df = melted_df[melted_df['Region/state of residence'] == state]\n",
    "    state_df = state_df.pivot(index='Year', columns='Category', values='value').reset_index()\n",
    "\n",
    "    categories = ['hospital', 'physician', 'income']\n",
    "    bar_width = 0.2\n",
    "    years = state_df['Year'].unique()\n",
    "    x = np.arange(len(years))\n",
    "\n",
    "    fig, ax = plt.subplots(figsize=(14, 8))\n",
    "\n",
    "    for i, category in enumerate(categories):\n",
    "        ax.bar(x + i * bar_width, state_df[category], bar_width, label=category.capitalize())\n",
    "\n",
    "    ax.set_xlabel('Year')\n",
    "    ax.set_ylabel('Value')\n",
    "    ax.set_title(f'Health Expenditure and Real Income in {state}')\n",
    "    ax.set_xticks(x + bar_width)\n",
    "    ax.set_xticklabels(years)\n",
    "    ax.legend()\n",
    "\n",
    "    plt.show()\n"
   ]
  },
  {
   "cell_type": "code",
   "execution_count": null,
   "id": "e7729ee1",
   "metadata": {},
   "outputs": [],
   "source": [
    "plot_grouped_bar_chart('CA')  # Replace 'CA' with any state abbreviation you want to plot\n"
   ]
  }
 ],
 "metadata": {
  "kernelspec": {
   "display_name": "Python 3 (ipykernel)",
   "language": "python",
   "name": "python3"
  },
  "language_info": {
   "codemirror_mode": {
    "name": "ipython",
    "version": 3
   },
   "file_extension": ".py",
   "mimetype": "text/x-python",
   "name": "python",
   "nbconvert_exporter": "python",
   "pygments_lexer": "ipython3",
   "version": "3.11.5"
  }
 },
 "nbformat": 4,
 "nbformat_minor": 5
}
